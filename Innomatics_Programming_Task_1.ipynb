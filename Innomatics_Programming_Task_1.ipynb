{
 "cells": [
  {
   "cell_type": "code",
   "execution_count": 1,
   "id": "d3c801fb",
   "metadata": {},
   "outputs": [
    {
     "name": "stdout",
     "output_type": "stream",
     "text": [
      "[1, 3, 6, 10]\n",
      "[1, 2, 3, 4, 5]\n",
      "[3, 4, 6, 16, 17]\n"
     ]
    }
   ],
   "source": [
    "# Running Sum of 1d Array\n",
    "\n",
    "def runningSum(nums):\n",
    "    for i in range(1,len(nums)):\n",
    "        nums[i] += nums[i-1]\n",
    "    return nums\n",
    "\n",
    "print(runningSum([1,2,3,4]))\n",
    "print(runningSum([1,1,1,1,1]))\n",
    "print(runningSum([3,1,2,10,1]))"
   ]
  },
  {
   "cell_type": "code",
   "execution_count": 2,
   "id": "d31cc5bf",
   "metadata": {},
   "outputs": [
    {
     "name": "stdout",
     "output_type": "stream",
     "text": [
      "[2, 3, 5, 4, 1, 7]\n",
      "[1, 4, 2, 3, 3, 2, 4, 1]\n",
      "[1, 2, 1, 2]\n"
     ]
    }
   ],
   "source": [
    "# Shuffle the Array\n",
    "\n",
    "def shuffle(nums, n):\n",
    "    solution=[]\n",
    "    for i in range(n):\n",
    "        solution += [nums[i]] + [nums[i+n]]\n",
    "    return solution\n",
    "\n",
    "print(shuffle([2,5,1,3,4,7],3))\n",
    "print(shuffle([1,2,3,4,4,3,2,1],4))\n",
    "print(shuffle([1,1,2,2],2))"
   ]
  },
  {
   "cell_type": "code",
   "execution_count": 3,
   "id": "96d26266",
   "metadata": {},
   "outputs": [
    {
     "name": "stdout",
     "output_type": "stream",
     "text": [
      "[True, True, True, False, True]\n",
      "[True, False, False, False, False]\n",
      "[True, False, True]\n"
     ]
    }
   ],
   "source": [
    "# Kids With the Greatest Number of Candies\n",
    "\n",
    "def kidsWithCandies(candies,extraCandies):\n",
    "    l=len(candies)\n",
    "    solution=[]\n",
    "    for i in range(l):\n",
    "        if (candies[i] + extraCandies >= max(candies)):\n",
    "            solution.append(True)\n",
    "        else:\n",
    "            solution.append(False)\n",
    "    return solution\n",
    "\n",
    "print(kidsWithCandies([2,3,5,1,3],3))\n",
    "print(kidsWithCandies([4,2,1,1,2],1))\n",
    "print(kidsWithCandies([12,1,12],10))"
   ]
  }
 ],
 "metadata": {
  "kernelspec": {
   "display_name": "Python 3 (ipykernel)",
   "language": "python",
   "name": "python3"
  },
  "language_info": {
   "codemirror_mode": {
    "name": "ipython",
    "version": 3
   },
   "file_extension": ".py",
   "mimetype": "text/x-python",
   "name": "python",
   "nbconvert_exporter": "python",
   "pygments_lexer": "ipython3",
   "version": "3.10.6"
  }
 },
 "nbformat": 4,
 "nbformat_minor": 5
}
