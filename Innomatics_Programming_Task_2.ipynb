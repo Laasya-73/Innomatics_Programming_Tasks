{
 "cells": [
  {
   "cell_type": "code",
   "execution_count": 1,
   "id": "de8bacbc",
   "metadata": {},
   "outputs": [
    {
     "name": "stdout",
     "output_type": "stream",
     "text": [
      "1[.]1[.]1[.]1\n",
      "255[.]100[.]50[.]0\n"
     ]
    }
   ],
   "source": [
    "# Defanging an IP Address\n",
    "\n",
    "def defangIPaddr(address):\n",
    "    solution = address.replace(\".\",\"[.]\")\n",
    "    return solution\n",
    "\n",
    "print(defangIPaddr(\"1.1.1.1\"))\n",
    "print(defangIPaddr(\"255.100.50.0\"))"
   ]
  },
  {
   "cell_type": "code",
   "execution_count": 2,
   "id": "17a1b5e4",
   "metadata": {},
   "outputs": [
    {
     "name": "stdout",
     "output_type": "stream",
     "text": [
      "2\n",
      "1\n"
     ]
    }
   ],
   "source": [
    "# Find Numbers with Even Number of Digits\n",
    "\n",
    "def findNumbers(nums):\n",
    "    string_num = map(str, nums)\n",
    "    count = 0\n",
    "    for i in string_num:\n",
    "        if len(i) % 2 == 0:\n",
    "            count += 1\n",
    "    return count\n",
    "\n",
    "print(findNumbers([12,345,2,6,7896]))\n",
    "print(findNumbers([555,901,482,1771]))"
   ]
  },
  {
   "cell_type": "code",
   "execution_count": 3,
   "id": "f1a0ed73",
   "metadata": {},
   "outputs": [
    {
     "name": "stdout",
     "output_type": "stream",
     "text": [
      "4\n",
      "6\n",
      "0\n"
     ]
    }
   ],
   "source": [
    "# Number of Good Pairs\n",
    "\n",
    "def numIdenticalPairs(nums):\n",
    "    solution = 0\n",
    "    for i in range(len(nums)):\n",
    "        for j in range(i+1, len(nums)):\n",
    "            if(nums[i] == nums[j]):\n",
    "                solution += 1\n",
    "    return solution\n",
    "\n",
    "print(numIdenticalPairs([1,2,3,1,1,3]))\n",
    "print(numIdenticalPairs([1,1,1,1]))\n",
    "print(numIdenticalPairs([1,2,3]))"
   ]
  },
  {
   "cell_type": "code",
   "execution_count": 4,
   "id": "bfb21914",
   "metadata": {},
   "outputs": [
    {
     "name": "stdout",
     "output_type": "stream",
     "text": [
      "[4, 0, 1, 1, 3]\n",
      "[2, 1, 0, 3]\n",
      "[0, 0, 0, 0]\n"
     ]
    }
   ],
   "source": [
    "# How Many Numbers Are Smaller Than the Current Number\n",
    "\n",
    "def smallerNumbersThanCurrent(nums):\n",
    "    l=len(nums)\n",
    "    solution=[]\n",
    "    count=0\n",
    "    for i in nums:\n",
    "        for j in range(l):\n",
    "            if (nums[j]-i)<0:\n",
    "                count+=1\n",
    "        solution.append(count)\n",
    "        count=0\n",
    "    return solution\n",
    "\n",
    "print(smallerNumbersThanCurrent([8,1,2,2,3]))\n",
    "print(smallerNumbersThanCurrent([6,5,4,8]))\n",
    "print(smallerNumbersThanCurrent([7,7,7,7]))"
   ]
  },
  {
   "cell_type": "code",
   "execution_count": 5,
   "id": "a6a0438b",
   "metadata": {},
   "outputs": [
    {
     "name": "stdout",
     "output_type": "stream",
     "text": [
      "15\n",
      "21\n"
     ]
    }
   ],
   "source": [
    "# Subtract the Product and Sum of Digits of an Integer\n",
    "\n",
    "def subtractProductAndSum(n):\n",
    "    sum_num,product_num = 0,1\n",
    "    while (n):\n",
    "        digit = n % 10\n",
    "        sum_num += digit\n",
    "        product_num *= digit\n",
    "        n //= 10\n",
    "    return product_num-sum_num\n",
    "\n",
    "print(subtractProductAndSum(234))\n",
    "print(subtractProductAndSum(4421))"
   ]
  },
  {
   "cell_type": "code",
   "execution_count": 6,
   "id": "693d3a84",
   "metadata": {},
   "outputs": [
    {
     "name": "stdout",
     "output_type": "stream",
     "text": [
      "8\n",
      "8\n"
     ]
    }
   ],
   "source": [
    "# XOR Operation in an Array\n",
    "\n",
    "def xorOperation(n,start):\n",
    "    solution = 0\n",
    "    for i in range(n):\n",
    "        temp = (start + 2 * i)\n",
    "        solution ^= temp \n",
    "    return solution\n",
    "\n",
    "print(xorOperation(5,0))\n",
    "print(xorOperation(4,3))"
   ]
  }
 ],
 "metadata": {
  "kernelspec": {
   "display_name": "Python 3 (ipykernel)",
   "language": "python",
   "name": "python3"
  },
  "language_info": {
   "codemirror_mode": {
    "name": "ipython",
    "version": 3
   },
   "file_extension": ".py",
   "mimetype": "text/x-python",
   "name": "python",
   "nbconvert_exporter": "python",
   "pygments_lexer": "ipython3",
   "version": "3.10.6"
  }
 },
 "nbformat": 4,
 "nbformat_minor": 5
}
